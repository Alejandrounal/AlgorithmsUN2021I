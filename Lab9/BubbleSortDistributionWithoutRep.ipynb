{
  "nbformat": 4,
  "nbformat_minor": 0,
  "metadata": {
    "colab": {
      "name": "BubbleSortDistributionWithoutRep.ipynb",
      "provenance": []
    },
    "kernelspec": {
      "name": "python3",
      "display_name": "Python 3"
    },
    "language_info": {
      "name": "python"
    }
  },
  "cells": [
    {
      "cell_type": "markdown",
      "metadata": {
        "id": "IJGElx4dAuWM"
      },
      "source": [
        "##Bubble Sort distribution optimized\n",
        "Oscar Alejandro Gómez Suarez\n",
        "\n"
      ]
    },
    {
      "cell_type": "markdown",
      "metadata": {
        "id": "deIdw-XY38IO"
      },
      "source": [
        "###Bubble sort optimized time complexity histograms for permutations of $n$ different elements\n",
        "\n"
      ]
    },
    {
      "cell_type": "code",
      "metadata": {
        "colab": {
          "base_uri": "https://localhost:8080/"
        },
        "id": "9XV5hHhJ5O4b",
        "outputId": "2d81723a-d24d-41e4-f536-a23774b3b178"
      },
      "source": [
        "from itertools import permutations\n",
        " \n",
        "n = 3\n",
        "perm = permutations(range(1,n+1))\n",
        "\n",
        "ls =  [] \n",
        "# Print the obtained permutations\n",
        "for i in list(perm):\n",
        "    print(i)"
      ],
      "execution_count": null,
      "outputs": [
        {
          "output_type": "stream",
          "text": [
            "(1, 2, 3)\n",
            "(1, 3, 2)\n",
            "(2, 1, 3)\n",
            "(2, 3, 1)\n",
            "(3, 1, 2)\n",
            "(3, 2, 1)\n"
          ],
          "name": "stdout"
        }
      ]
    },
    {
      "cell_type": "code",
      "metadata": {
        "id": "5q7IAvM95T8a"
      },
      "source": [
        "def bubbleSortOpt(arr):\n",
        "    steps = 0\n",
        "    n = len(arr)\n",
        " \n",
        "    # Traverse through all array elements\n",
        "    for i in range(n):\n",
        " \n",
        "        swapped = False\n",
        "        # Last i elements are already in place\n",
        "        for j in range(0, n-i-1):\n",
        " \n",
        "            # traverse the array from 0 to n-i-1\n",
        "            # Swap if the element found is greater\n",
        "            # than the next element\n",
        "            steps +=1\n",
        "            # Si el número siguiente es menor hace swap, y esto se refleja en el flag swapped\n",
        "            # De lo contrario swapped se mantiene como False y el ciclo se rompe al hacer la comparación del tercer if\n",
        "            if arr[j] > arr[j+1] :\n",
        "                arr[j], arr[j+1] = arr[j+1], arr[j]\n",
        "                swapped = True\n",
        "                steps +=1\n",
        "        #Si no se realizaron swaps en la iteració quiere decir que ya esta ordenado\n",
        "        steps += 1\n",
        "        if swapped == False:\n",
        "            break\n",
        "    return(steps)"
      ],
      "execution_count": null,
      "outputs": []
    },
    {
      "cell_type": "code",
      "metadata": {
        "colab": {
          "base_uri": "https://localhost:8080/",
          "height": 448
        },
        "id": "-gyapuqz72Hd",
        "outputId": "ae19665d-32ea-4f9d-d97f-12ada44857f7"
      },
      "source": [
        "from itertools import permutations\n",
        "import matplotlib.pyplot as plt\n",
        "import numpy as np \n",
        "import math\n",
        "\n",
        "n = 3\n",
        "perm = permutations(range(1,n+1))\n",
        "\n",
        "times =  [] \n",
        "# Print the obtained permutations\n",
        "for i in list(perm):\n",
        "    i = list(i)\n",
        "    times.append(bubbleSortOpt(i))\n",
        "\n",
        "b = np.array(range(min(times)-1,max(times)+2) ) +0.5\n",
        "plt.hist(times,bins=b)\n",
        "plt.title(\"Bubble Sort Optimized\")\n",
        "plt.xlabel(\"Steps =comparisons + swaps \")\n",
        "plt.ylabel(\"Frequency\")\n",
        "plt.show()\n",
        "    \n",
        "print(\"n\",n)  \n",
        "print(\"number of permutations n! =\",math.factorial(n)) \n",
        "print(\"exp min =\",min(times))\n",
        "print(\"min formula n =\",n)\n",
        "print(\"exp max =\",max(times))\n",
        "print(\"max formula (n-1)*n+n =\",(n-1)*n + n)\n",
        "print(\"exp mean =\",np.mean(times))\n",
        "print(\"mean formula 3/4*n**2+17/4*n-4 =\",(3/4)*(n**2-n))\n",
        "print(\"stdev\",np.std(times))\n"
      ],
      "execution_count": null,
      "outputs": [
        {
          "output_type": "display_data",
          "data": {
            "image/png": "[encoded data removed]",
            "text/plain": [
              "<Figure size 432x288 with 1 Axes>"
            ]
          },
          "metadata": {
            "tags": [],
            "needs_background": "light"
          }
        },
        {
          "output_type": "stream",
          "text": [
            "n 3\n",
            "number of permutations n! = 6\n",
            "exp min = 3\n",
            "min formula n = 3\n",
            "exp max = 9\n",
            "max formula (n-1)*n+n = 9\n",
            "exp mean = 6.5\n",
            "mean formula 3/4*n**2+17/4*n-4 = 4.5\n",
            "stdev 1.8929694486000912\n"
          ],
          "name": "stdout"
        }
      ]
    },
    {
      "cell_type": "code",
      "metadata": {
        "colab": {
          "base_uri": "https://localhost:8080/",
          "height": 448
        },
        "id": "RVmFo74KDNOd",
        "outputId": "4fb1c87e-4118-4700-c2e5-c51a4e001575"
      },
      "source": [
        "from itertools import permutations\n",
        "import matplotlib.pyplot as plt\n",
        "import numpy as np \n",
        "import math\n",
        "\n",
        "n = 4\n",
        "perm = permutations(range(1,n+1))\n",
        "\n",
        "times =  [] \n",
        "# Print the obtained permutations\n",
        "for i in list(perm):\n",
        "    i = list(i)\n",
        "    times.append(bubbleSortOpt(i))\n",
        "\n",
        "b = np.array(range(min(times)-1,max(times)+2) ) +0.5\n",
        "plt.hist(times,bins=b)\n",
        "plt.title(\"Bubble Sort Optimized\")\n",
        "plt.xlabel(\"Steps =comparisons + swaps \")\n",
        "plt.ylabel(\"Frequency\")\n",
        "plt.show()\n",
        "    \n",
        "print(\"n\",n)  \n",
        "print(\"number of permutations n! =\",math.factorial(n))\n",
        "print(\"exp min =\",min(times))\n",
        "print(\"min formula n  =\",n)\n",
        "print(\"exp max =\",max(times))\n",
        "print(\"max formula (n-1)*n+n =\",(n-1)*n+ n)\n",
        "print(\"exp mean =\",np.mean(times))\n",
        "print(\"mean formula 3/4*n**2+17/4*n-4 =\",(3/4)*(n**2-n))\n",
        "print(\"stdev\",np.std(times))"
      ],
      "execution_count": null,
      "outputs": [
        {
          "output_type": "display_data",
          "data": {
            "image/png": "[encoded data removed]",
            "text/plain": [
              "<Figure size 432x288 with 1 Axes>"
            ]
          },
          "metadata": {
            "tags": [],
            "needs_background": "light"
          }
        },
        {
          "output_type": "stream",
          "text": [
            "n 4\n",
            "number of permutations n! = 24\n",
            "exp min = 4\n",
            "min formula n  = 4\n",
            "exp max = 16\n",
            "max formula (n-1)*n+n = 16\n",
            "exp mean = 11.458333333333334\n",
            "mean formula 3/4*n**2+17/4*n-4 = 9.0\n",
            "stdev 2.798499101701164\n"
          ],
          "name": "stdout"
        }
      ]
    },
    {
      "cell_type": "code",
      "metadata": {
        "colab": {
          "base_uri": "https://localhost:8080/",
          "height": 448
        },
        "id": "vnd2pGjNESUJ",
        "outputId": "168b6a8f-4b7c-4718-d425-6e78847902b2"
      },
      "source": [
        "from itertools import permutations\n",
        "import matplotlib.pyplot as plt\n",
        "import numpy as np \n",
        "import math\n",
        "\n",
        "n = 5\n",
        "perm = permutations(range(1,n+1))\n",
        "\n",
        "times =  [] \n",
        "# Print the obtained permutations\n",
        "for i in list(perm):\n",
        "    i = list(i)\n",
        "    times.append(bubbleSortOpt(i))\n",
        "\n",
        "b = np.array(range(min(times)-1,max(times)+2) ) +0.5\n",
        "plt.hist(times,bins=b)\n",
        "plt.title(\"Bubble Sort\")\n",
        "plt.xlabel(\"Steps =comparisons + swaps \")\n",
        "plt.ylabel(\"Frequency\")\n",
        "plt.show()\n",
        "    \n",
        "print(\"n\",n)  \n",
        "print(\"number of permutations n! =\",math.factorial(n))\n",
        "print(\"exp min =\",min(times))\n",
        "print(\"min formula n =\",n)\n",
        "print(\"exp max =\",max(times))\n",
        "print(\"max formula (n-1)*n+n =\",(n-1)*n + n)\n",
        "print(\"exp mean =\",np.mean(times))\n",
        "print(\"mean formula 3/4*n**2+17/4*n-4 =\",(3/4)*(n**2-n))\n",
        "print(\"stdev\",np.std(times))"
      ],
      "execution_count": null,
      "outputs": [
        {
          "output_type": "display_data",
          "data": {
            "image/png": "[encoded data removed]",
            "text/plain": [
              "<Figure size 432x288 with 1 Axes>"
            ]
          },
          "metadata": {
            "tags": [],
            "needs_background": "light"
          }
        },
        {
          "output_type": "stream",
          "text": [
            "n 5\n",
            "number of permutations n! = 120\n",
            "exp min = 5\n",
            "min formula n = 5\n",
            "exp max = 25\n",
            "max formula (n-1)*n+n = 25\n",
            "exp mean = 17.866666666666667\n",
            "mean formula 3/4*n**2+17/4*n-4 = 15.0\n",
            "stdev 3.792390040887438\n"
          ],
          "name": "stdout"
        }
      ]
    },
    {
      "cell_type": "code",
      "metadata": {
        "colab": {
          "base_uri": "https://localhost:8080/",
          "height": 448
        },
        "id": "DxNyZLotErzG",
        "outputId": "74dc8f45-2b14-43c7-f948-e456f1561c4d"
      },
      "source": [
        "from itertools import permutations\n",
        "import matplotlib.pyplot as plt\n",
        "import numpy as np \n",
        "import math\n",
        "\n",
        "n = 6\n",
        "perm = permutations(range(1,n+1))\n",
        "\n",
        "times =  [] \n",
        "# Print the obtained permutations\n",
        "for i in list(perm):\n",
        "    i = list(i)\n",
        "    times.append(bubbleSortOpt(i))\n",
        "\n",
        "b = np.array(range(min(times)-1,max(times)+2) ) +0.5\n",
        "plt.hist(times,bins=b)\n",
        "plt.title(\"Bubble Sort Optimized\")\n",
        "plt.xlabel(\"Steps =comparisons + swaps \")\n",
        "plt.ylabel(\"Frequency\")\n",
        "plt.show()\n",
        "    \n",
        "print(\"n\",n)  \n",
        "print(\"number of permutations n! =\",math.factorial(n))\n",
        "print(\"exp min =\",min(times))\n",
        "print(\"min formula n =\",n)\n",
        "print(\"exp max =\",max(times))\n",
        "print(\"max formula (n-1)*n  + n=\",(n-1)*n + n)\n",
        "print(\"exp mean =\",np.mean(times))\n",
        "print(\"mean formula 3/4*n**2+17/4*n-4 =\",(3/4)*(n**2-n))\n",
        "print(\"stdev\",np.std(times))"
      ],
      "execution_count": null,
      "outputs": [
        {
          "output_type": "display_data",
          "data": {
            "image/png": "[encoded data removed]",
            "text/plain": [
              "<Figure size 432x288 with 1 Axes>"
            ]
          },
          "metadata": {
            "tags": [],
            "needs_background": "light"
          }
        },
        {
          "output_type": "stream",
          "text": [
            "n 6\n",
            "number of permutations n! = 720\n",
            "exp min = 6\n",
            "min formula n = 6\n",
            "exp max = 36\n",
            "max formula (n-1)*n  + n= 36\n",
            "exp mean = 25.740277777777777\n",
            "mean formula 3/4*n**2+17/4*n-4 = 22.5\n",
            "stdev 4.8606172368166884\n"
          ],
          "name": "stdout"
        }
      ]
    },
    {
      "cell_type": "code",
      "metadata": {
        "colab": {
          "base_uri": "https://localhost:8080/",
          "height": 448
        },
        "id": "hGOg3odaE8wO",
        "outputId": "328e88af-64f2-4850-ed93-01d325eb3b9e"
      },
      "source": [
        "from itertools import permutations\n",
        "import matplotlib.pyplot as plt\n",
        "import numpy as np \n",
        "import math\n",
        "\n",
        "n = 7\n",
        "perm = permutations(range(1,n+1))\n",
        "\n",
        "times =  [] \n",
        "# Print the obtained permutations\n",
        "for i in list(perm):\n",
        "    i = list(i)\n",
        "    times.append(bubbleSortOpt(i))\n",
        "\n",
        "b = np.array(range(min(times)-1,max(times)+2) ) +0.5\n",
        "plt.hist(times,bins=b)\n",
        "plt.title(\"Bubble Sort Optimized\")\n",
        "plt.xlabel(\"Steps =comparisons + swaps \")\n",
        "plt.ylabel(\"Frequency\")\n",
        "plt.show()\n",
        "    \n",
        "print(\"n\",n)  \n",
        "print(\"number of permutations n! =\",math.factorial(n))\n",
        "print(\"exp min =\",min(times))\n",
        "print(\"min formula n =\",n)\n",
        "print(\"exp max =\",max(times))\n",
        "print(\"max formula (n-1)*n  + n=\",(n-1)*n + n)\n",
        "print(\"exp mean =\",np.mean(times))\n",
        "print(\"mean formula 3/4*n**2+17/4*n-4 =\",(3/4)*(n**2-n))\n",
        "print(\"stdev\",np.std(times))"
      ],
      "execution_count": null,
      "outputs": [
        {
          "output_type": "display_data",
          "data": {
            "image/png": "[encoded data removed]",
            "text/plain": [
              "<Figure size 432x288 with 1 Axes>"
            ]
          },
          "metadata": {
            "tags": [],
            "needs_background": "light"
          }
        },
        {
          "output_type": "stream",
          "text": [
            "n 7\n",
            "number of permutations n! = 5040\n",
            "exp min = 7\n",
            "min formula n = 7\n",
            "exp max = 49\n",
            "max formula (n-1)*n  + n= 49\n",
            "exp mean = 35.087698412698415\n",
            "mean formula 3/4*n**2+17/4*n-4 = 31.5\n",
            "stdev 5.986446949873378\n"
          ],
          "name": "stdout"
        }
      ]
    },
    {
      "cell_type": "code",
      "metadata": {
        "colab": {
          "base_uri": "https://localhost:8080/",
          "height": 448
        },
        "id": "Lz5lABTSFDIv",
        "outputId": "ccadeba7-b5cd-441f-ef59-56f4cf1c0a4b"
      },
      "source": [
        "from itertools import permutations\n",
        "import matplotlib.pyplot as plt\n",
        "import numpy as np \n",
        "import math\n",
        "\n",
        "n = 8\n",
        "perm = permutations(range(1,n+1))\n",
        "\n",
        "times =  [] \n",
        "# Print the obtained permutations\n",
        "for i in list(perm):\n",
        "    i = list(i)\n",
        "    times.append(bubbleSortOpt(i))\n",
        "\n",
        "b = np.array(range(min(times)-1,max(times)+2) ) +0.5\n",
        "plt.hist(times,bins=b)\n",
        "plt.title(\"Bubble Sort Optimized\")\n",
        "plt.xlabel(\"Steps =comparisons + swaps \")\n",
        "plt.ylabel(\"Frequency\")\n",
        "plt.show()\n",
        "    \n",
        "print(\"n\",n)  \n",
        "print(\"number of permutations n! =\",math.factorial(n))\n",
        "print(\"exp min =\",min(times))\n",
        "print(\"min formula n =\",n)\n",
        "print(\"exp max =\",max(times))\n",
        "print(\"max formula (n-1)*n  + n=\",(n-1)*n + n)\n",
        "print(\"exp mean =\",np.mean(times))\n",
        "print(\"mean formula 3/4*n**2+17/4*n-4 =\",(3/4)*(n**2-n))\n",
        "print(\"stdev\",np.std(times))"
      ],
      "execution_count": null,
      "outputs": [
        {
          "output_type": "display_data",
          "data": {
            "image/png": "[encoded data removed]",
            "text/plain": [
              "<Figure size 432x288 with 1 Axes>"
            ]
          },
          "metadata": {
            "tags": [],
            "needs_background": "light"
          }
        },
        {
          "output_type": "stream",
          "text": [
            "n 8\n",
            "number of permutations n! = 40320\n",
            "exp min = 8\n",
            "min formula n = 8\n",
            "exp max = 64\n",
            "max formula (n-1)*n  + n= 64\n",
            "exp mean = 45.91366567460317\n",
            "mean formula 3/4*n**2+17/4*n-4 = 42.0\n",
            "stdev 7.1627592999499985\n"
          ],
          "name": "stdout"
        }
      ]
    },
    {
      "cell_type": "code",
      "metadata": {
        "colab": {
          "base_uri": "https://localhost:8080/",
          "height": 448
        },
        "id": "k-htK-04FIID",
        "outputId": "45c85024-d813-42ea-9da4-155b4dea5663"
      },
      "source": [
        "from itertools import permutations\n",
        "import matplotlib.pyplot as plt\n",
        "import numpy as np \n",
        "import math\n",
        "\n",
        "n = 9\n",
        "perm = permutations(range(1,n+1))\n",
        "\n",
        "times =  [] \n",
        "# Print the obtained permutations\n",
        "for i in list(perm):\n",
        "    i = list(i)\n",
        "    times.append(bubbleSortOpt(i))\n",
        "\n",
        "b = np.array(range(min(times)-1,max(times)+2) ) +0.5\n",
        "plt.hist(times,bins=b)\n",
        "plt.title(\"Bubble Sort Optimized\")\n",
        "plt.xlabel(\"Steps =comparisons + swaps \")\n",
        "plt.ylabel(\"Frequency\")\n",
        "plt.show()\n",
        "    \n",
        "print(\"n\",n)  \n",
        "print(\"number of permutations n! =\",math.factorial(n))\n",
        "print(\"exp min =\",min(times))\n",
        "print(\"min formula n =\",n)\n",
        "print(\"exp max =\",max(times))\n",
        "print(\"max formula (n-1)*n  + n=\",(n-1)*n + n)\n",
        "print(\"exp mean =\",np.mean(times))\n",
        "print(\"mean formula 3/4*n**2+17/4*n-4 =\",(3/4)*(n**2-n))\n",
        "print(\"stdev\",np.std(times))"
      ],
      "execution_count": null,
      "outputs": [
        {
          "output_type": "display_data",
          "data": {
            "image/png": "[encoded data removed]",
            "text/plain": [
              "<Figure size 432x288 with 1 Axes>"
            ]
          },
          "metadata": {
            "tags": [],
            "needs_background": "light"
          }
        },
        {
          "output_type": "stream",
          "text": [
            "n 9\n",
            "number of permutations n! = 362880\n",
            "exp min = 9\n",
            "min formula n = 9\n",
            "exp max = 81\n",
            "max formula (n-1)*n  + n= 81\n",
            "exp mean = 58.22166005291005\n",
            "mean formula 3/4*n**2+17/4*n-4 = 54.0\n",
            "stdev 8.384699914647298\n"
          ],
          "name": "stdout"
        }
      ]
    },
    {
      "cell_type": "code",
      "metadata": {
        "colab": {
          "base_uri": "https://localhost:8080/",
          "height": 448
        },
        "id": "6Dztvi_QFXBw",
        "outputId": "293e0898-2b09-4eb3-9cc4-c5454e775c65"
      },
      "source": [
        "from itertools import permutations\n",
        "import matplotlib.pyplot as plt\n",
        "import numpy as np \n",
        "import math\n",
        "\n",
        "n = 10\n",
        "perm = permutations(range(1,n+1))\n",
        "\n",
        "times =  [] \n",
        "# Print the obtained permutations\n",
        "for i in list(perm):\n",
        "    i = list(i)\n",
        "    times.append(bubbleSortOpt(i))\n",
        "\n",
        "b = np.array(range(min(times)-1,max(times)+2) ) +0.5\n",
        "plt.hist(times,bins=b)\n",
        "plt.title(\"Bubble Sort Optimized\")\n",
        "plt.xlabel(\"Steps =comparisons + swaps \")\n",
        "plt.ylabel(\"Frequency\")\n",
        "plt.show()\n",
        "    \n",
        "print(\"n\",n)  \n",
        "print(\"number of permutations n! =\",math.factorial(n))\n",
        "print(\"exp min =\",min(times))\n",
        "print(\"min formula n =\",n)\n",
        "print(\"exp max =\",max(times))\n",
        "print(\"max formula (n-1)*n  + n=\",(n-1)*n + n)\n",
        "print(\"exp mean =\",np.mean(times))\n",
        "print(\"mean formula 3/4*n**2+17/4*n-4 =\",(3/4)*(n**2-n))\n",
        "print(\"stdev\",np.std(times))"
      ],
      "execution_count": null,
      "outputs": [
        {
          "output_type": "display_data",
          "data": {
            "image/png": "[encoded data removed]",
            "text/plain": [
              "<Figure size 432x288 with 1 Axes>"
            ]
          },
          "metadata": {
            "tags": [],
            "needs_background": "light"
          }
        },
        {
          "output_type": "stream",
          "text": [
            "n 10\n",
            "number of permutations n! = 3628800\n",
            "exp min = 10\n",
            "min formula n = 10\n",
            "exp max = 100\n",
            "max formula (n-1)*n  + n= 100\n",
            "exp mean = 72.01435653659613\n",
            "mean formula 3/4*n**2+17/4*n-4 = 67.5\n",
            "stdev 9.64824489703281\n"
          ],
          "name": "stdout"
        }
      ]
    },
    {
      "cell_type": "code",
      "metadata": {
        "colab": {
          "base_uri": "https://localhost:8080/",
          "height": 448
        },
        "id": "SUlu_159FqBG",
        "outputId": "408922bd-2f8e-4745-8104-f4f6a2032136"
      },
      "source": [
        "from itertools import permutations\n",
        "import matplotlib.pyplot as plt\n",
        "import numpy as np \n",
        "import math\n",
        "\n",
        "n = 11\n",
        "perm = permutations(range(1,n+1))\n",
        "\n",
        "times =  [] \n",
        "# Print the obtained permutations\n",
        "for i in list(perm):\n",
        "    i = list(i)\n",
        "    times.append(bubbleSortOpt(i))\n",
        "\n",
        "b = np.array(range(min(times)-1,max(times)+2) ) +0.5\n",
        "plt.hist(times,bins=b)\n",
        "plt.title(\"Bubble Sort Optimized\")\n",
        "plt.xlabel(\"Steps =comparisons + swaps \")\n",
        "plt.ylabel(\"Frequency\")\n",
        "plt.show()\n",
        "    \n",
        "print(\"n\",n)  \n",
        "print(\"number of permutations n! =\",math.factorial(n))\n",
        "print(\"exp min =\",min(times))\n",
        "print(\"min formula n =\",n)\n",
        "print(\"exp max =\",max(times))\n",
        "print(\"max formula (n-1)*n  + n=\",(n-1)*n + n)\n",
        "print(\"exp mean =\",np.mean(times))\n",
        "print(\"mean formula 3/4*n**2+17/4*n-4 =\",(3/4)*(n**2-n))\n",
        "print(\"stdev\",np.std(times))"
      ],
      "execution_count": null,
      "outputs": [
        {
          "output_type": "display_data",
          "data": {
            "image/png": "[encoded data removed]",
            "text/plain": [
              "<Figure size 432x288 with 1 Axes>"
            ]
          },
          "metadata": {
            "tags": [],
            "needs_background": "light"
          }
        },
        {
          "output_type": "stream",
          "text": [
            "n 11\n",
            "number of permutations n! = 39916800\n",
            "exp min = 11\n",
            "min formula n = 11\n",
            "exp max = 121\n",
            "max formula (n-1)*n  + n= 121\n",
            "exp mean = 87.29382851330767\n",
            "mean formula 3/4*n**2+17/4*n-4 = 82.5\n",
            "stdev 10.950162157183415\n"
          ],
          "name": "stdout"
        }
      ]
    }
  ]
}