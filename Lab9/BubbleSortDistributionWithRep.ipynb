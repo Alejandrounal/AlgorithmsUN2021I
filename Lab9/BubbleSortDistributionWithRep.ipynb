{
  "nbformat": 4,
  "nbformat_minor": 0,
  "metadata": {
    "colab": {
      "name": "BubbleSortDistributionWithRep.ipynb",
      "provenance": []
    },
    "kernelspec": {
      "name": "python3",
      "display_name": "Python 3"
    },
    "language_info": {
      "name": "python"
    }
  },
  "cells": [
    {
      "cell_type": "markdown",
      "metadata": {
        "id": "ZJ9nR4nOr6aN"
      },
      "source": [
        "##Bubble Sort distribution optimized\n",
        "Oscar Alejandro Gómez Suarez\n"
      ]
    },
    {
      "cell_type": "markdown",
      "metadata": {
        "id": "fmsgi2b5sASL"
      },
      "source": [
        "###Bubble sort not optimized time complexity histograms for permutations of $n$ elements with repetitions"
      ]
    },
    {
      "cell_type": "code",
      "metadata": {
        "colab": {
          "base_uri": "https://localhost:8080/"
        },
        "id": "59GerT6GseER",
        "outputId": "53d83c84-7d10-47c2-c444-0c5a026631e9"
      },
      "source": [
        "from itertools import product\n",
        "\n",
        "n=3 \n",
        "perm = product(range(1,n+1), repeat = n)\n",
        "\n",
        "c=0\n",
        "for i in perm:\n",
        "    print(i)\n",
        "    c+=1\n",
        "\n",
        "print(c)"
      ],
      "execution_count": null,
      "outputs": [
        {
          "output_type": "stream",
          "text": [
            "(1, 1, 1)\n",
            "(1, 1, 2)\n",
            "(1, 1, 3)\n",
            "(1, 2, 1)\n",
            "(1, 2, 2)\n",
            "(1, 2, 3)\n",
            "(1, 3, 1)\n",
            "(1, 3, 2)\n",
            "(1, 3, 3)\n",
            "(2, 1, 1)\n",
            "(2, 1, 2)\n",
            "(2, 1, 3)\n",
            "(2, 2, 1)\n",
            "(2, 2, 2)\n",
            "(2, 2, 3)\n",
            "(2, 3, 1)\n",
            "(2, 3, 2)\n",
            "(2, 3, 3)\n",
            "(3, 1, 1)\n",
            "(3, 1, 2)\n",
            "(3, 1, 3)\n",
            "(3, 2, 1)\n",
            "(3, 2, 2)\n",
            "(3, 2, 3)\n",
            "(3, 3, 1)\n",
            "(3, 3, 2)\n",
            "(3, 3, 3)\n",
            "27\n"
          ],
          "name": "stdout"
        }
      ]
    },
    {
      "cell_type": "code",
      "metadata": {
        "id": "8_ULThsbsqoo"
      },
      "source": [
        "def bubbleSortOpt(arr):\n",
        "    steps = 0\n",
        "    n = len(arr)\n",
        " \n",
        "    # Traverse through all array elements\n",
        "    for i in range(n):\n",
        " \n",
        "        swapped = False\n",
        "        # Last i elements are already in place\n",
        "        for j in range(0, n-i-1):\n",
        " \n",
        "            # traverse the array from 0 to n-i-1\n",
        "            # Swap if the element found is greater\n",
        "            # than the next element\n",
        "            steps +=1\n",
        "            # Si el número siguiente es menor hace swap, y esto se refleja en el flag swapped\n",
        "            # De lo contrario swapped se mantiene como False y el ciclo se rompe al hacer la comparación del tercer if\n",
        "            if arr[j] > arr[j+1] :\n",
        "                arr[j], arr[j+1] = arr[j+1], arr[j]\n",
        "                swapped = True\n",
        "                steps +=1\n",
        "        #Si no se realizaron swaps en la iteració quiere decir que ya esta ordenado\n",
        "        steps += 1\n",
        "        if swapped == False:\n",
        "            break\n",
        "    return(steps)"
      ],
      "execution_count": null,
      "outputs": []
    },
    {
      "cell_type": "code",
      "metadata": {
        "colab": {
          "base_uri": "https://localhost:8080/",
          "height": 448
        },
        "id": "c0v5KiLKsu5D",
        "outputId": "495b0efc-5440-467d-a757-166880d16adc"
      },
      "source": [
        "\n",
        "from itertools import product\n",
        "import matplotlib.pyplot as plt\n",
        "import numpy as np \n",
        "\n",
        "n = 3\n",
        "perm = product(range(1,n+1), repeat = n)\n",
        "\n",
        "times =  [] \n",
        "# Print the obtained permutations\n",
        "for i in list(perm):\n",
        "    i = list(i)\n",
        "    times.append(bubbleSortOpt(i))\n",
        "\n",
        "b = np.array(range(min(times)-1,max(times)+2) ) +0.5\n",
        "plt.hist(times,bins=b)\n",
        "plt.title(\"Bubble Sort\")\n",
        "plt.xlabel(\"Steps = comparisons + swaps \")\n",
        "plt.ylabel(\"Frequency\")\n",
        "plt.show()\n",
        "    \n",
        "print(\"n\",n)  \n",
        "print(\"number of permutations ,n**n = \",n**n)\n",
        "print(\"exp min =\",min(times))\n",
        "print(\"min formula n =\",n)\n",
        "print(\"exp max =\",max(times))\n",
        "print(\"max formula (n-1)*n  + n=\",(n-1)*n + n)\n",
        "print(\"exp mean =\",np.mean(times))\n",
        "print(\"mean formula (3/4)*(n**2)-n+(1/4) =\",(3/4)*(n**2)-n+(1/4))\n",
        "print(\"stdev\",np.std(times))"
      ],
      "execution_count": null,
      "outputs": [
        {
          "output_type": "display_data",
          "data": {
            "image/png": "[encoded data removed]",
            "text/plain": [
              "<Figure size 432x288 with 1 Axes>"
            ]
          },
          "metadata": {
            "tags": [],
            "needs_background": "light"
          }
        },
        {
          "output_type": "stream",
          "text": [
            "n 3\n",
            "number of permutations ,n**n =  27\n",
            "exp min = 3\n",
            "min formula n = 3\n",
            "exp max = 9\n",
            "max formula (n-1)*n  + n= 9\n",
            "exp mean = 5.444444444444445\n",
            "mean formula (3/4)*(n**2)-n+(1/4) = 4.0\n",
            "stdev 2.0245407953653998\n"
          ],
          "name": "stdout"
        }
      ]
    },
    {
      "cell_type": "code",
      "metadata": {
        "colab": {
          "base_uri": "https://localhost:8080/",
          "height": 448
        },
        "id": "h6iLmjiTkyi_",
        "outputId": "bf141326-c300-4dbd-9ba2-a7d2b96fa9d6"
      },
      "source": [
        "\n",
        "from itertools import product\n",
        "import matplotlib.pyplot as plt\n",
        "import numpy as np \n",
        "\n",
        "n = 4\n",
        "perm = product(range(1,n+1), repeat = n)\n",
        "\n",
        "times =  [] \n",
        "# Print the obtained permutations\n",
        "for i in list(perm):\n",
        "    i = list(i)\n",
        "    times.append(bubbleSortOpt(i))\n",
        "\n",
        "b = np.array(range(min(times)-1,max(times)+2) ) +0.5\n",
        "plt.hist(times,bins=b)\n",
        "plt.title(\"Bubble Sort\")\n",
        "plt.xlabel(\"Steps = comparisons + swaps \")\n",
        "plt.ylabel(\"Frequency\")\n",
        "plt.show()\n",
        "    \n",
        "print(\"n\",n)  \n",
        "print(\"number of permutations ,n**n = \",n**n)\n",
        "print(\"exp min =\",min(times))\n",
        "print(\"min formula n =\",n)\n",
        "print(\"exp max =\",max(times))\n",
        "print(\"max formula (n-1)*n  + n=\",(n-1)*n + n)\n",
        "print(\"exp mean =\",np.mean(times))\n",
        "print(\"mean formula (3/4)*(n**2)-n+(1/4) =\",(3/4)*(n**2)-n+(1/4))\n",
        "print(\"stdev\",np.std(times))"
      ],
      "execution_count": null,
      "outputs": [
        {
          "output_type": "display_data",
          "data": {
            "image/png": "[encoded data removed]",
            "text/plain": [
              "<Figure size 432x288 with 1 Axes>"
            ]
          },
          "metadata": {
            "tags": [],
            "needs_background": "light"
          }
        },
        {
          "output_type": "stream",
          "text": [
            "n 4\n",
            "number of permutations ,n**n =  256\n",
            "exp min = 4\n",
            "min formula n = 4\n",
            "exp max = 16\n",
            "max formula (n-1)*n  + n= 16\n",
            "exp mean = 9.96484375\n",
            "mean formula (3/4)*(n**2)-n+(1/4) = 8.25\n",
            "stdev 3.1316701275974035\n"
          ],
          "name": "stdout"
        }
      ]
    },
    {
      "cell_type": "code",
      "metadata": {
        "colab": {
          "base_uri": "https://localhost:8080/",
          "height": 448
        },
        "id": "7_0X12_LvnCh",
        "outputId": "8691391d-6fdb-49e2-82ad-a40e0e195245"
      },
      "source": [
        "\n",
        "from itertools import product\n",
        "import matplotlib.pyplot as plt\n",
        "import numpy as np \n",
        "\n",
        "n = 5\n",
        "perm = product(range(1,n+1), repeat = n)\n",
        "\n",
        "times =  [] \n",
        "# Print the obtained permutations\n",
        "for i in list(perm):\n",
        "    i = list(i)\n",
        "    times.append(bubbleSortOpt(i))\n",
        "\n",
        "b = np.array(range(min(times)-1,max(times)+2) ) +0.5\n",
        "plt.hist(times,bins=b)\n",
        "plt.title(\"Bubble Sort\")\n",
        "plt.xlabel(\"Steps = comparisons + swaps \")\n",
        "plt.ylabel(\"Frequency\")\n",
        "plt.show()\n",
        "    \n",
        "print(\"n\",n)  \n",
        "print(\"number of permutations ,n**n = \",n**n)\n",
        "print(\"exp min =\",min(times))\n",
        "print(\"min formula n =\",n)\n",
        "print(\"exp max =\",max(times))\n",
        "print(\"max formula (n-1)*n  + n=\",(n-1)*n + n)\n",
        "print(\"exp mean =\",np.mean(times))\n",
        "print(\"mean formula (3/4)*(n**2)-n+(1/4) =\",(3/4)*(n**2)-n+(1/4))\n",
        "print(\"stdev\",np.std(times))"
      ],
      "execution_count": null,
      "outputs": [
        {
          "output_type": "display_data",
          "data": {
            "image/png": "[encoded data removed]",
            "text/plain": [
              "<Figure size 432x288 with 1 Axes>"
            ]
          },
          "metadata": {
            "tags": [],
            "needs_background": "light"
          }
        },
        {
          "output_type": "stream",
          "text": [
            "n 5\n",
            "number of permutations ,n**n =  3125\n",
            "exp min = 5\n",
            "min formula n = 5\n",
            "exp max = 25\n",
            "max formula (n-1)*n  + n= 25\n",
            "exp mean = 15.99008\n",
            "mean formula (3/4)*(n**2)-n+(1/4) = 14.0\n",
            "stdev 4.208512990784275\n"
          ],
          "name": "stdout"
        }
      ]
    },
    {
      "cell_type": "code",
      "metadata": {
        "colab": {
          "base_uri": "https://localhost:8080/",
          "height": 448
        },
        "id": "u8dAzhiek6qA",
        "outputId": "175e014b-cd3a-4f96-bb34-55e8f817a35c"
      },
      "source": [
        "\n",
        "from itertools import product\n",
        "import matplotlib.pyplot as plt\n",
        "import numpy as np \n",
        "\n",
        "n = 6\n",
        "perm = product(range(1,n+1), repeat = n)\n",
        "\n",
        "times =  [] \n",
        "# Print the obtained permutations\n",
        "for i in list(perm):\n",
        "    i = list(i)\n",
        "    times.append(bubbleSortOpt(i))\n",
        "\n",
        "b = np.array(range(min(times)-1,max(times)+2) ) +0.5\n",
        "plt.hist(times,bins=b)\n",
        "plt.title(\"Bubble Sort\")\n",
        "plt.xlabel(\"Steps = comparisons + swaps \")\n",
        "plt.ylabel(\"Frequency\")\n",
        "plt.show()\n",
        "    \n",
        "print(\"n\",n)  \n",
        "print(\"number of permutations ,n**n = \",n**n)\n",
        "print(\"exp min =\",min(times))\n",
        "print(\"min formula n =\",n)\n",
        "print(\"exp max =\",max(times))\n",
        "print(\"max formula (n-1)*n  + n=\",(n-1)*n + n)\n",
        "print(\"exp mean =\",np.mean(times))\n",
        "print(\"mean formula (3/4)*(n**2)-n+(1/4) =\",(3/4)*(n**2)-n+(1/4))\n",
        "print(\"stdev\",np.std(times))"
      ],
      "execution_count": null,
      "outputs": [
        {
          "output_type": "display_data",
          "data": {
            "image/png": "[encoded data removed]",
            "text/plain": [
              "<Figure size 432x288 with 1 Axes>"
            ]
          },
          "metadata": {
            "tags": [],
            "needs_background": "light"
          }
        },
        {
          "output_type": "stream",
          "text": [
            "n 6\n",
            "number of permutations ,n**n =  46656\n",
            "exp min = 6\n",
            "min formula n = 6\n",
            "exp max = 36\n",
            "max formula (n-1)*n  + n= 36\n",
            "exp mean = 23.493141289437585\n",
            "mean formula (3/4)*(n**2)-n+(1/4) = 21.25\n",
            "stdev 5.326379945935118\n"
          ],
          "name": "stdout"
        }
      ]
    },
    {
      "cell_type": "code",
      "metadata": {
        "colab": {
          "base_uri": "https://localhost:8080/",
          "height": 448
        },
        "id": "-FqAdT8klFGZ",
        "outputId": "f071c33a-c200-418b-eaea-f379ea0a0991"
      },
      "source": [
        "\n",
        "from itertools import product\n",
        "import matplotlib.pyplot as plt\n",
        "import numpy as np \n",
        "\n",
        "n = 7\n",
        "perm = product(range(1,n+1), repeat = n)\n",
        "\n",
        "times =  [] \n",
        "# Print the obtained permutations\n",
        "for i in list(perm):\n",
        "    i = list(i)\n",
        "    times.append(bubbleSortOpt(i))\n",
        "\n",
        "b = np.array(range(min(times)-1,max(times)+2) ) +0.5\n",
        "plt.hist(times,bins=b)\n",
        "plt.title(\"Bubble Sort\")\n",
        "plt.xlabel(\"Steps = comparisons + swaps \")\n",
        "plt.ylabel(\"Frequency\")\n",
        "plt.show()\n",
        "    \n",
        "print(\"n\",n)  \n",
        "print(\"number of permutations ,n**n = \",n**n)\n",
        "print(\"exp min =\",min(times))\n",
        "print(\"min formula n =\",n)\n",
        "print(\"exp max =\",max(times))\n",
        "print(\"max formula (n-1)*n  + n=\",(n-1)*n + n)\n",
        "print(\"exp mean =\",np.mean(times))\n",
        "print(\"mean formula (3/4)*(n**2)-n+(1/4) =\",(3/4)*(n**2)-n+(1/4))\n",
        "print(\"stdev\",np.std(times))"
      ],
      "execution_count": null,
      "outputs": [
        {
          "output_type": "display_data",
          "data": {
            "image/png": "[encoded data removed]",
            "text/plain": [
              "<Figure size 432x288 with 1 Axes>"
            ]
          },
          "metadata": {
            "tags": [],
            "needs_background": "light"
          }
        },
        {
          "output_type": "stream",
          "text": [
            "n 7\n",
            "number of permutations ,n**n =  823543\n",
            "exp min = 7\n",
            "min formula n = 7\n",
            "exp max = 49\n",
            "max formula (n-1)*n  + n= 49\n",
            "exp mean = 32.47609535871229\n",
            "mean formula (3/4)*(n**2)-n+(1/4) = 30.0\n",
            "stdev 6.499671149973993\n"
          ],
          "name": "stdout"
        }
      ]
    },
    {
      "cell_type": "code",
      "metadata": {
        "colab": {
          "base_uri": "https://localhost:8080/",
          "height": 448
        },
        "id": "EsiQhL_BlKza",
        "outputId": "5bce36ff-747a-453f-d49f-e1536854a27f"
      },
      "source": [
        "\n",
        "from itertools import product\n",
        "import matplotlib.pyplot as plt\n",
        "import numpy as np \n",
        "\n",
        "n = 8\n",
        "perm = product(range(1,n+1), repeat = n)\n",
        "\n",
        "times =  [] \n",
        "# Print the obtained permutations\n",
        "for i in list(perm):\n",
        "    i = list(i)\n",
        "    times.append(bubbleSortOpt(i))\n",
        "\n",
        "b = np.array(range(min(times)-1,max(times)+2) ) +0.5\n",
        "plt.hist(times,bins=b)\n",
        "plt.title(\"Bubble Sort\")\n",
        "plt.xlabel(\"Steps = comparisons + swaps \")\n",
        "plt.ylabel(\"Frequency\")\n",
        "plt.show()\n",
        "    \n",
        "print(\"n\",n)  \n",
        "print(\"number of permutations ,n**n = \",n**n)\n",
        "print(\"exp min =\",min(times))\n",
        "print(\"min formula n =\",n)\n",
        "print(\"exp max =\",max(times))\n",
        "print(\"max formula (n-1)*n  + n=\",(n-1)*n + n)\n",
        "print(\"exp mean =\",np.mean(times))\n",
        "print(\"mean formula (3/4)*(n**2)-n+(1/4) =\",(3/4)*(n**2)-n+(1/4))\n",
        "print(\"stdev\",np.std(times))"
      ],
      "execution_count": null,
      "outputs": [
        {
          "output_type": "display_data",
          "data": {
            "image/png": "[encoded data removed]",
            "text/plain": [
              "<Figure size 432x288 with 1 Axes>"
            ]
          },
          "metadata": {
            "tags": [],
            "needs_background": "light"
          }
        },
        {
          "output_type": "stream",
          "text": [
            "n 8\n",
            "number of permutations ,n**n =  16777216\n",
            "exp min = 8\n",
            "min formula n = 8\n",
            "exp max = 64\n",
            "max formula (n-1)*n  + n= 64\n",
            "exp mean = 42.94385761022568\n",
            "mean formula (3/4)*(n**2)-n+(1/4) = 40.25\n",
            "stdev 7.721951858254013\n"
          ],
          "name": "stdout"
        }
      ]
    }
  ]
}